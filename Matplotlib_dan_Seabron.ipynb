{
  "nbformat": 4,
  "nbformat_minor": 0,
  "metadata": {
    "colab": {
      "provenance": []
    },
    "kernelspec": {
      "name": "python3",
      "display_name": "Python 3"
    },
    "language_info": {
      "name": "python"
    }
  },
  "cells": [
    {
      "cell_type": "markdown",
      "source": [
        "## **MATPLOTLIB**"
      ],
      "metadata": {
        "id": "y53snj3Gy2kj"
      }
    },
    {
      "cell_type": "markdown",
      "source": [
        "Matplotlib adalah library yang digunakan dalam bahasa pemrograman Python untuk menciptakan visualisasi data dengan grafis yang menarik dan informatif.\n",
        "\n",
        "visualisasi data merupakan aspek kunci dalam analisis karena bisa membantu memahami tren dan pola dalam data yang sedang kita kerjakan. Matplotlib menyediakan alat yang fleksibel dan mudah digunakan untuk menciptakan visualisasi tersebut.\n",
        "\n",
        "Misalnya, jika kamu memiliki data penjualan bulanan, kamu bisa menggunakan Matplotlib untuk menggambarkan tren penjualan dalam bentuk grafik.\n",
        "\n",
        "Salah satu kelebihan lain dari Matplotlib adalah kemudahan dalam penggunaan. Hanya dengan menggunakan beberapa baris kode sederhana, kamu bisa menciptakan visualisasi yang kompleks. Visualisasi ini nantinya akan membantumu mengkomunikasikan temuan analisis kepada orang lain."
      ],
      "metadata": {
        "id": "grIPwBOPjkAz"
      }
    },
    {
      "cell_type": "markdown",
      "source": [
        "# **Cara Mengimpor Modul Matplotlib**"
      ],
      "metadata": {
        "id": "sjdUsPhvj0Ri"
      }
    },
    {
      "cell_type": "markdown",
      "source": [
        "Agar bisa menggunakan Matplotlib, kamu perlu mengimpor modul Matplotlib ke dalam kode Python. Proses ini sangat sederhana dan bisa dilakukan dengan mudah.\n",
        "Pertama, kamu harus memastikan Matplotlib sudah terinstal di sistem kamu."
      ],
      "metadata": {
        "id": "iGzUfEdwkNTp"
      }
    },
    {
      "cell_type": "code",
      "source": [
        "pip install matplotlib"
      ],
      "metadata": {
        "id": "aaG5nyXnkgG8"
      },
      "execution_count": null,
      "outputs": []
    },
    {
      "cell_type": "markdown",
      "source": [
        "Kemudian, kamu dapat mulai mengimpor modul Matplotlib ke dalam kode Python milikmu. Ada beberapa cara untuk melakukan ini, tetapi cara yang paling umum adalah menggunakan perintah import untuk mengimpor matplotlib.pyplot.\n",
        "\n",
        "Berikut contoh kodenya:"
      ],
      "metadata": {
        "id": "zdTtKuNFkhms"
      }
    },
    {
      "cell_type": "code",
      "source": [
        "import matplotlib.pyplot as plt"
      ],
      "metadata": {
        "id": "qel5SgDrkrxX"
      },
      "execution_count": null,
      "outputs": []
    },
    {
      "cell_type": "markdown",
      "source": [
        "Dalam contoh tersebut, kita mengambil library matplotlib.pyplot. Programmer umumnya menyingkat nama fungsi ini sebagai plt agar memudahkan dalam pemanggilan di kemudian hari.\n",
        "\n",
        "Sekarang, kamu sudah bisa menggunakan plt untuk mengakses semua fungsi dan fitur yang ada dalam modul matplotlib.pyplot. Setelah modul diimpor, kamu bebas menggunakan berbagai alat dan fungsi yang disediakan untuk menciptakan grafik dan diagram yang akan membantumu dalam analisis data."
      ],
      "metadata": {
        "id": "ZYQ09BlKkw0x"
      }
    },
    {
      "cell_type": "markdown",
      "source": [
        "# **Cara Membuat Grafik Sederhana dengan Matplotlib**"
      ],
      "metadata": {
        "id": "d5WaYKQ2k8UG"
      }
    },
    {
      "cell_type": "markdown",
      "source": [
        "## **1 Impor modul**"
      ],
      "metadata": {
        "id": "ZPmthFO_rhLZ"
      }
    },
    {
      "cell_type": "code",
      "source": [
        "import matplotlib.pyplot as plt"
      ],
      "metadata": {
        "id": "GCHeqG-lmIoX"
      },
      "execution_count": null,
      "outputs": []
    },
    {
      "cell_type": "markdown",
      "source": [
        "## **2 Siapkan data**"
      ],
      "metadata": {
        "id": "lVg25OKursfH"
      }
    },
    {
      "cell_type": "markdown",
      "source": [
        "Selanjutnya, tentukan data yang ingin kamu plot.\n",
        "\n",
        "Misalnya, kamu ingin membuat grafik garis yang menghubungkan titik-titik (1,2), (2,4), dan (3,6), kamu bisa menuliskan:"
      ],
      "metadata": {
        "id": "j3EYt6G5mYs9"
      }
    },
    {
      "cell_type": "code",
      "source": [
        "X = [1, 2, 3]\n",
        "y = [2, 4, 6]"
      ],
      "metadata": {
        "id": "eYQ028WhmbjV"
      },
      "execution_count": null,
      "outputs": []
    },
    {
      "cell_type": "markdown",
      "source": [
        "## **3 Gunakan metode plot()**"
      ],
      "metadata": {
        "id": "EJukWq1Rr5UM"
      }
    },
    {
      "cell_type": "markdown",
      "source": [
        "Metode plot() dipakai untuk menggambar grafik garis. Kamu dapat menggunakannya dengan cara berikut:\n",
        "plt.plot(x, y)"
      ],
      "metadata": {
        "id": "DVAy8tSZmwUK"
      }
    },
    {
      "cell_type": "code",
      "source": [
        "plt.plot(x, y)"
      ],
      "metadata": {
        "id": "G-_yAwKbmzNS"
      },
      "execution_count": null,
      "outputs": []
    },
    {
      "cell_type": "markdown",
      "source": [
        "## **4 Tampilkan grafik**"
      ],
      "metadata": {
        "id": "2hw6rR3EsDFS"
      }
    },
    {
      "cell_type": "markdown",
      "source": [
        "Setelahnya, gunakan metode show() untuk menampilkan grafik yang telah kamu buat:"
      ],
      "metadata": {
        "id": "3xOE9CzlnBL2"
      }
    },
    {
      "cell_type": "code",
      "source": [
        "plt.show()"
      ],
      "metadata": {
        "id": "RUhf30CKnJ-v"
      },
      "execution_count": null,
      "outputs": []
    },
    {
      "cell_type": "markdown",
      "source": [
        "Kode lengkap untuk membuat grafik garis di atas adalah sebagai berikut:"
      ],
      "metadata": {
        "id": "x5gL2iWcnNi1"
      }
    },
    {
      "cell_type": "code",
      "source": [
        "import matplotlib.pyplot as plt\n",
        "X = [1, 2, 3]\n",
        "y = [2, 4, 6]\n",
        "plt.plot(x, y)\n",
        "plt.show()"
      ],
      "metadata": {
        "id": "T80PZKaOnSrs"
      },
      "execution_count": null,
      "outputs": []
    },
    {
      "cell_type": "markdown",
      "source": [
        "# **Jenis Grafik yang Dapat Dibuat dengan Matplotlib**"
      ],
      "metadata": {
        "id": "qsdFoFBUnWA_"
      }
    },
    {
      "cell_type": "markdown",
      "source": [
        "Berikut beberapa jenis grafik yang bisa dibuat dengan Matplotlib:"
      ],
      "metadata": {
        "id": "NN7-JvNZnoqf"
      }
    },
    {
      "cell_type": "markdown",
      "source": [
        "## **Grafik garis (line graphs)**"
      ],
      "metadata": {
        "id": "JGw1m-SJn08-"
      }
    },
    {
      "cell_type": "markdown",
      "source": [
        "Grafik garis biasanya digunakan untuk menampilkan tren data sepanjang interval waktu. Gunakan metode plot() untuk membuat grafik ini."
      ],
      "metadata": {
        "id": "6q4DSjB_oA84"
      }
    },
    {
      "cell_type": "code",
      "source": [
        "plt.scatter(x, y)\n",
        "plt.show()"
      ],
      "metadata": {
        "id": "HJAfvh6RoFvz"
      },
      "execution_count": null,
      "outputs": []
    },
    {
      "cell_type": "markdown",
      "source": [
        "## **Grafik batang (bar chart)**"
      ],
      "metadata": {
        "id": "QZe0aQQRoHAj"
      }
    },
    {
      "cell_type": "markdown",
      "source": [
        "Bar chart berguna untuk membandingkan nilai individu di kategori yang berbeda. Kamu dapat menggunakan metode bar() untuk membuat grafik ini."
      ],
      "metadata": {
        "id": "1JRwykRtoYos"
      }
    },
    {
      "cell_type": "code",
      "source": [
        "plt.bar(x, y)\n",
        "plt.show()"
      ],
      "metadata": {
        "id": "egOT4-imoZ_6"
      },
      "execution_count": null,
      "outputs": []
    },
    {
      "cell_type": "markdown",
      "source": [
        "## **Grafik sebar (scatter plot)**"
      ],
      "metadata": {
        "id": "qWO1I2wsodRo"
      }
    },
    {
      "cell_type": "markdown",
      "source": [
        "Scatter plot dipakai untuk menampilkan hubungan antara dua variabel berkelanjutan. Penggunaanya dengan metode scatter()."
      ],
      "metadata": {
        "id": "s5ROG2-Fo2QM"
      }
    },
    {
      "cell_type": "code",
      "source": [
        "plt.scatter(x, y)\n",
        "plt.show()"
      ],
      "metadata": {
        "id": "w2ZGqcako3mV"
      },
      "execution_count": null,
      "outputs": []
    },
    {
      "cell_type": "markdown",
      "source": [
        "## **Histogram**"
      ],
      "metadata": {
        "id": "_o8BTq9Ro-Qr"
      }
    },
    {
      "cell_type": "markdown",
      "source": [
        "Histogram berfungsi untuk menampilkan distribusi data dalam rentang yang telah ditentukan. Untuk membuatnya, gunakan fungsi hist()."
      ],
      "metadata": {
        "id": "5_vJqvvBpEls"
      }
    },
    {
      "cell_type": "code",
      "source": [
        "plt.hist(x, bins=10)\n",
        "plt.show()"
      ],
      "metadata": {
        "id": "0nhyXtVKpH_j"
      },
      "execution_count": null,
      "outputs": []
    },
    {
      "cell_type": "markdown",
      "source": [
        "## **Pie chart**"
      ],
      "metadata": {
        "id": "Av7JbzyLpJce"
      }
    },
    {
      "cell_type": "markdown",
      "source": [
        "Pie chart menampilkan proporsi dari keseluruhan dalam kategori yang berbeda. Gunakan fungsi pie() untuk membuat grafik ini."
      ],
      "metadata": {
        "id": "o3UIsl7NpRIE"
      }
    },
    {
      "cell_type": "code",
      "source": [
        "plt.pie(x, labels=labels)\n",
        "plt.show()"
      ],
      "metadata": {
        "id": "JPdwX3EopWUd"
      },
      "execution_count": null,
      "outputs": []
    },
    {
      "cell_type": "markdown",
      "source": [
        "## **Box plot**"
      ],
      "metadata": {
        "id": "DM9TEjcEpZZS"
      }
    },
    {
      "cell_type": "markdown",
      "source": [
        "Box plot dipakai untuk menampilkan ringkasan statistik data seperti median, kuartil, dan pencilan. Untuk membuatnya, gunakan fungsi boxplot()."
      ],
      "metadata": {
        "id": "mY1F3Sr2piCF"
      }
    },
    {
      "cell_type": "code",
      "source": [
        "plt.boxplot(x)\n",
        "plt.show()"
      ],
      "metadata": {
        "id": "QXtCbs7LpjSO"
      },
      "execution_count": null,
      "outputs": []
    },
    {
      "cell_type": "markdown",
      "source": [
        "## **Grafik kontur (contour plot):**"
      ],
      "metadata": {
        "id": "JEDW3QS9pmak"
      }
    },
    {
      "cell_type": "markdown",
      "source": [
        "Contour plot berguna untuk menampilkan kontur dari fungsi tiga dimensi. Gunakan metode contour() untuk membuat grafiknya."
      ],
      "metadata": {
        "id": "_mKQUHOfpr4I"
      }
    },
    {
      "cell_type": "code",
      "source": [
        "plt.contour(X, Y, Z)\n",
        "plt.show()"
      ],
      "metadata": {
        "id": "rEOIS_1Lpxb-"
      },
      "execution_count": null,
      "outputs": []
    },
    {
      "cell_type": "markdown",
      "source": [
        "## **Grafik 3D**"
      ],
      "metadata": {
        "id": "mm9UiIxsp0uh"
      }
    },
    {
      "cell_type": "markdown",
      "source": [
        "Grafik 3D berfungsi untuk memvisualisasikan data dalam tiga dimensi. Untuk membuatnya, gunakan kode berikut."
      ],
      "metadata": {
        "id": "x7HC5L1-p6gs"
      }
    },
    {
      "cell_type": "code",
      "source": [
        "from mpl toolkits.mplot3d import Axes3D\n",
        "ax = plt. axes (projection='3d' )\n",
        "ax.plot_surface(X, Y, Z)\n",
        "plt.show()"
      ],
      "metadata": {
        "id": "DdKovVzGqAu2"
      },
      "execution_count": null,
      "outputs": []
    },
    {
      "cell_type": "markdown",
      "source": [
        "## **Grafik area (area plot):**"
      ],
      "metadata": {
        "id": "Sf5_1tRuqECV"
      }
    },
    {
      "cell_type": "markdown",
      "source": [
        "Area plot menampilkan kuantitas melalui area yang diisi. Pembuatannya bisa dengan menggunakan fungsi between()."
      ],
      "metadata": {
        "id": "0qUZgv9rqLof"
      }
    },
    {
      "cell_type": "code",
      "source": [
        "plt.fill_between(x, y1, y2)\n",
        "plt.show()"
      ],
      "metadata": {
        "id": "ade8VIMOqRQq"
      },
      "execution_count": null,
      "outputs": []
    },
    {
      "cell_type": "markdown",
      "source": [
        "## **Grafik hexbin**"
      ],
      "metadata": {
        "id": "RNvACfaGqXJ9"
      }
    },
    {
      "cell_type": "markdown",
      "source": [
        "Grafik hexbin mirip dengan scatter plot, tetapi grafik ini menggunakan heksagon."
      ],
      "metadata": {
        "id": "T2jLu9yUqgxP"
      }
    },
    {
      "cell_type": "code",
      "source": [
        "plt.hexbin(x, y, gridsize=30)\n",
        "plt.show()"
      ],
      "metadata": {
        "id": "DtRdXUhEqiHe"
      },
      "execution_count": null,
      "outputs": []
    },
    {
      "cell_type": "markdown",
      "source": [
        "## **SEABRON**"
      ],
      "metadata": {
        "id": "2LEbJUAczNDW"
      }
    },
    {
      "cell_type": "markdown",
      "source": [
        "## **Mengenal Seaborn Python**"
      ],
      "metadata": {
        "id": "n8858VM4s-rH"
      }
    },
    {
      "cell_type": "markdown",
      "source": [
        "Seaborn adalah library visualisasi data berbasis Python yang menyediakan high-level interface (antarmuka tingkat tinggi) untuk menggambar grafik statistik yang informatif.\n",
        "\n",
        "Seaborn dibangun di atas Matplotlib, yaitu salah satu library visualisasi data paling dasar dan populer di Python. Artinya, Seaborn memanfaatkan fungsionalitas inti dari Matplotlib, sambil menambahkan lapisan abstraksi untuk memudahkan analyst membuat visualisasi yang lebih kompleks.\n",
        "\n",
        "Menurut GeeksforGeeks, Seaborn memudahkan dalam memvisualisasikan data dengan berbagai jenis plot seperti distribusi, kategorikal, matriks, dan banyak lagi. Dengan kata lain, jika kamu ingin melihat distribusi data atau hubungan antara dua variabel, Seaborn memiliki alat yang tepat untuk melakukannya.\n",
        "Tak hanya itu, Seaborn juga terintegrasi baik dengan struktur data Pandas, sehingga memungkinkan analisis dan visualisasi data menjadi lebih lancar."
      ],
      "metadata": {
        "id": "7Q9ikwLatPcA"
      }
    },
    {
      "cell_type": "markdown",
      "source": [
        "## **Instalasi Seaborn**"
      ],
      "metadata": {
        "id": "Rv9RTsBztmEp"
      }
    },
    {
      "cell_type": "markdown",
      "source": [
        "Berikut langkah-langkah menginstal Seaborn menggunakan PIP:"
      ],
      "metadata": {
        "id": "kQ7h2Le5tzVA"
      }
    },
    {
      "cell_type": "markdown",
      "source": [
        "## **1 Persiapkan environment kerja Python**"
      ],
      "metadata": {
        "id": "FJT5XqXjt4T6"
      }
    },
    {
      "cell_type": "markdown",
      "source": [
        "Sebelum menginstal Seaborn, pastikan kamu sudah memiliki Python dan PIP terinstal di komputermu. Jika belum, kamu bisa mendownload dan menginstal Python dari website resminya.\n",
        "\n",
        "Saat menginstal Python, PIP biasanya sudah termasuk dalam paket instalasi."
      ],
      "metadata": {
        "id": "CZl1PsNRt73c"
      }
    },
    {
      "cell_type": "markdown",
      "source": [
        "## **2 Instalasi Seaborn**"
      ],
      "metadata": {
        "id": "12sZmd1cuBlK"
      }
    },
    {
      "cell_type": "markdown",
      "source": [
        "Setelah memastikan PIP berfungsi dengan baik, buka terminal atau command prompt dan ketik perintah berikut:\n",
        "\n",
        "pip install seaborn\n",
        "\n",
        "Tunggu beberapa saat sampai proses instalasi selesai. PIP akan mengunduh dan menginstal Seaborn beserta semua dependensinya."
      ],
      "metadata": {
        "id": "IXExi9bAuGv0"
      }
    },
    {
      "cell_type": "markdown",
      "source": [
        "## **3 Mengatur environment Kerja Python**"
      ],
      "metadata": {
        "id": "uRJBCyGwuLgX"
      }
    },
    {
      "cell_type": "markdown",
      "source": [
        "Setelah Seaborn terinstal, kamu bisa mulai mengatur environment kerja Python di perangkatmu. Pertama, buat sebuah file Python baru atau buka interpreter Python interaktif. Kemudian, impor library yang diperlukan.\n",
        "\n",
        "Untuk menggunakan Seaborn, kamu juga perlu mengimpor Matplotlib karena Seaborn dibangun di atasnya. Berikut cara mengimpornya:"
      ],
      "metadata": {
        "id": "RREvYrvluXh6"
      }
    },
    {
      "cell_type": "code",
      "source": [
        "import seaborn as sns\n",
        "import matplotlib.pyplot as plt"
      ],
      "metadata": {
        "id": "IZpbuWl1uZH7"
      },
      "execution_count": null,
      "outputs": []
    },
    {
      "cell_type": "markdown",
      "source": [
        "## **Cara Memuat Data untuk Visualisasi**"
      ],
      "metadata": {
        "id": "Sz_Ief_MuceM"
      }
    },
    {
      "cell_type": "markdown",
      "source": [
        "Seaborn menyediakan beberapa cara untuk melakukan ini:"
      ],
      "metadata": {
        "id": "dWxqYRksunkL"
      }
    },
    {
      "cell_type": "markdown",
      "source": [
        "## **1 Menggunakan dataset sampel dari Seaborn**"
      ],
      "metadata": {
        "id": "C5vMgWYauq_3"
      }
    },
    {
      "cell_type": "markdown",
      "source": [
        "Salah satu fitur menarik dari Seaborn adalah kemampuannya memuat dataset sampel yang sudah disediakan. Fitur ini berguna jika kamu ingin belajar atau bereksperimen.\n",
        "\n",
        "Untuk memuat dataset sampel, kamu bisa menggunakan fungsi load_dataset(). Misalnya, untuk memuat dataset yang bernama 'tips', kamu bisa mengetik perintah berikut:"
      ],
      "metadata": {
        "id": "pvMcqrhvuumd"
      }
    },
    {
      "cell_type": "code",
      "source": [
        "import seaborn as sns\n",
        "data = sns.load_dataset('tips')\n",
        "print(data.head())"
      ],
      "metadata": {
        "id": "gW2Q-7Nwu1Ao"
      },
      "execution_count": null,
      "outputs": []
    },
    {
      "cell_type": "markdown",
      "source": [
        "Fungsi head() dari Pandas digunakan untuk menampilkan lima baris pertama dari dataset"
      ],
      "metadata": {
        "id": "O7FdFeDru2bI"
      }
    },
    {
      "cell_type": "markdown",
      "source": [
        "## **2 Menggunakan data yang sudah ada**"
      ],
      "metadata": {
        "id": "tu6oEveAvBEq"
      }
    },
    {
      "cell_type": "markdown",
      "source": [
        "Jika kamu memiliki data sendiri, misalnya dalam format CSV, kamu bisa memanfaatkan library Pandas untuk memuatnya.\n",
        "\n",
        "Setelah data dimuat ke dalam DataFrame Pandas, kamu akan lebih mudah memvisualisasikannya dengan Seaborn. Berikut contoh cara memuat data dari file CSV:"
      ],
      "metadata": {
        "id": "t5zBxdfcvIEs"
      }
    },
    {
      "cell_type": "code",
      "source": [
        "import pandas as pd\n",
        "import seaborn as sns\n",
        "\n",
        "data = pd.read_csv('lokasi_file.csv')\n",
        "print(data.head())"
      ],
      "metadata": {
        "id": "Q4h0N5NHvMjW"
      },
      "execution_count": null,
      "outputs": []
    },
    {
      "cell_type": "markdown",
      "source": [
        "## **Cara Membuat Berbagai Jenis Plot dengan Seaborn**"
      ],
      "metadata": {
        "id": "zjZJDQs_vNus"
      }
    },
    {
      "cell_type": "markdown",
      "source": [
        "Seaborn menawarkan berbagai jenis plot yang dapat membantu kamu dalam menganalisis dan mempresentasikan data. Berikut beberapa jenis plot Seaborn sekaligus cara membuatnya:"
      ],
      "metadata": {
        "id": "Mq5vBp2GvT_b"
      }
    },
    {
      "cell_type": "markdown",
      "source": [
        "## **Scatter plot**"
      ],
      "metadata": {
        "id": "GqD-Zo2svXNt"
      }
    },
    {
      "cell_type": "markdown",
      "source": [
        "Plot ini berguna untuk menampilkan hubungan antara dua variabel kontinu."
      ],
      "metadata": {
        "id": "9V1YPADdvgUu"
      }
    },
    {
      "cell_type": "code",
      "source": [
        "import seaborn as sns\n",
        "import matplotlib.pyplot as plt\n",
        "\n",
        "data = sns.load_dataset('tips')\n",
        "sns.scatterplot(x='total_bill', y='tip', data=data)\n",
        "plt.show()"
      ],
      "metadata": {
        "id": "N7g8jaokvlEl"
      },
      "execution_count": null,
      "outputs": []
    },
    {
      "cell_type": "markdown",
      "source": [
        "## **Line plot**"
      ],
      "metadata": {
        "id": "eHsJE0IGvnjB"
      }
    },
    {
      "cell_type": "code",
      "source": [
        "data = sns.load_dataset('flights')\n",
        "data_pivot = data.pivot_table(index='month', columns='year', values='passengers')\n",
        "sns.lineplot(data=data_pivot)\n",
        "plt.show()"
      ],
      "metadata": {
        "id": "jBxEGHckvs_w"
      },
      "execution_count": null,
      "outputs": []
    },
    {
      "cell_type": "markdown",
      "source": [
        "## **Bar plot**"
      ],
      "metadata": {
        "id": "21PC-uYZvwGM"
      }
    },
    {
      "cell_type": "markdown",
      "source": [
        "Plot jenis ini berguna untuk membandingkan kuantitas variabel kategorikal."
      ],
      "metadata": {
        "id": "FyLrteBMv34c"
      }
    },
    {
      "cell_type": "code",
      "source": [
        "data = sns.load_dataset('tips')\n",
        "sns.barplot(x='day', y='total_bill', data=data)\n",
        "plt.show()"
      ],
      "metadata": {
        "id": "bulKclMLv8Vc"
      },
      "execution_count": null,
      "outputs": []
    },
    {
      "cell_type": "markdown",
      "source": [
        "## **Histogram**"
      ],
      "metadata": {
        "id": "gpbshsR5v9yi"
      }
    },
    {
      "cell_type": "markdown",
      "source": [
        "Histogram dipakai untuk menampilkan distribusi dari satu variabel kontinu."
      ],
      "metadata": {
        "id": "ecR4i8vswGyh"
      }
    },
    {
      "cell_type": "code",
      "source": [
        "data = sns.load_dataset('tips')\n",
        "sns.histplot(data['total_bill'])\n",
        "plt.show()"
      ],
      "metadata": {
        "id": "s_pWDXd8wH3y"
      },
      "execution_count": null,
      "outputs": []
    },
    {
      "cell_type": "markdown",
      "source": [
        "## **Box plot**"
      ],
      "metadata": {
        "id": "QjMke8RQwNYQ"
      }
    },
    {
      "cell_type": "markdown",
      "source": [
        "Box plot menunjukkan distribusi data melalui kuartil dan dapat mengidentifikasi pencilan."
      ],
      "metadata": {
        "id": "2aF0-E2ZwSOS"
      }
    },
    {
      "cell_type": "code",
      "source": [
        "data = sns.load_dataset('tips')\n",
        "sns.boxplot(x='day', y='total_bill', data=data)\n",
        "plt.show()"
      ],
      "metadata": {
        "id": "dMJUBO0QwVnl"
      },
      "execution_count": null,
      "outputs": []
    },
    {
      "cell_type": "markdown",
      "source": [
        "## **Heatmap**"
      ],
      "metadata": {
        "id": "eKMgG_aqwcXh"
      }
    },
    {
      "cell_type": "markdown",
      "source": [
        "Heatmap berguna untuk menampilkan korelasi atau hubungan antara dua variabel kategorikal.\n",
        "\n"
      ],
      "metadata": {
        "id": "st4HZlKDwfjP"
      }
    },
    {
      "cell_type": "code",
      "source": [
        "data = sns.load_dataset('flights')\n",
        "data_pivot = data.pivot_table(index='month', columns='year', values='passengers')\n",
        "sns.heatmap(data_pivot, cmap='YlGnBu')\n",
        "plt.show()"
      ],
      "metadata": {
        "id": "71nEhiNjwn63"
      },
      "execution_count": null,
      "outputs": []
    },
    {
      "cell_type": "markdown",
      "source": [
        "## **Cara Mengubah Tampilan Plot dengan Seaborn**"
      ],
      "metadata": {
        "id": "qGFm5SbYwq8M"
      }
    },
    {
      "cell_type": "markdown",
      "source": [
        "Berikut beberapa cara mengubah tampilan plot dengan Seaborn:\n",
        "\n",
        "Mengubah warna plot: Seaborn memiliki palet warna beragam yang dapat kamu gunakan untuk mempercantik plot. Misalnya, jika kamu ingin mengubah warna scatter plot, gunakan perintah berikut:"
      ],
      "metadata": {
        "id": "ZNdbu04nwzpb"
      }
    },
    {
      "cell_type": "code",
      "source": [
        "import seaborn as sns\n",
        "import matplotlib.pyplot as plt\n",
        "data = sns.load_dataset('tips')\n",
        "sns.scatterplot(x='total_bill', y='tip', data=data, palette='viridis')\n",
        "plt.show()"
      ],
      "metadata": {
        "id": "tsMUCkSDw1yz"
      },
      "execution_count": null,
      "outputs": []
    },
    {
      "cell_type": "markdown",
      "source": [
        "Menambahkan dan mengkustomisasi label: label sangat penting untuk memastikan bahwa audiens memahami informasi yang disajikan. Berikut perintah untuk menggunakannya:"
      ],
      "metadata": {
        "id": "g5i2bFRpw9JU"
      }
    },
    {
      "cell_type": "code",
      "source": [
        "sns.scatterplot(x='total_bill', y='tip', data=data)\n",
        "plt.title('Hubungan antara Total Bill dan Tip')\n",
        "plt.xlabel('Total Bill')\n",
        "plt.ylabel('Tip')\n",
        "plt.show()"
      ],
      "metadata": {
        "id": "H4VleArjxBzq"
      },
      "execution_count": null,
      "outputs": []
    },
    {
      "cell_type": "markdown",
      "source": [
        "Mengubah style plot: Seaborn memungkinkan kamu mengubah style backround plot dengan fungsi set_style()."
      ],
      "metadata": {
        "id": "BzqWtvkHxGP8"
      }
    },
    {
      "cell_type": "code",
      "source": [
        "sns.set_style(\"whitegrid\")\n",
        "sns.scatterplot(x='total_bill', y='tip', data=data)\n",
        "plt.show()"
      ],
      "metadata": {
        "id": "oRc1qrc7xK9y"
      },
      "execution_count": null,
      "outputs": []
    },
    {
      "cell_type": "markdown",
      "source": [
        "Menyesuaikan ukuran dan bentuk titik: pada scatter plot, kamu bisa mengubah ukuran dan bentuk titik berdasarkan variabel tertentu."
      ],
      "metadata": {
        "id": "Y0jjsHZKxQkN"
      }
    },
    {
      "cell_type": "code",
      "source": [
        "sns.scatterplot(x='total_bill', y='tip',\n",
        "data=data, size='size', hue='sex', style='time')\n",
        "plt.show()"
      ],
      "metadata": {
        "id": "cNQMBD1NxUcp"
      },
      "execution_count": null,
      "outputs": []
    },
    {
      "cell_type": "markdown",
      "source": [
        "Menggunakan tema: Seaborn menyediakan beberapa tema bawaan yang dapat kamu gunakan untuk mengubah tampilan keseluruhan plot dengan mudah."
      ],
      "metadata": {
        "id": "kANu1epMxadI"
      }
    },
    {
      "cell_type": "code",
      "source": [
        "sns.set_theme(style=\"darkgrid\")\n",
        "sns.lineplot(data=data_pivot)\n",
        "plt.show()"
      ],
      "metadata": {
        "id": "DzV2yHLExfmK"
      },
      "execution_count": null,
      "outputs": []
    },
    {
      "cell_type": "markdown",
      "source": [
        "Dengan mengkombinasikan berbagai fitur kustomisasi di atas, kamu bisa membuat visualisasi yang tidak hanya informatif, tetapi juga mudah dipahami oleh audiens."
      ],
      "metadata": {
        "id": "wR-lmf5fxleB"
      }
    },
    {
      "cell_type": "markdown",
      "source": [
        "## **Cara Membuat Heatmap dan Korelasi dengan Seaborn**"
      ],
      "metadata": {
        "id": "cOz_pk2txxLQ"
      }
    },
    {
      "cell_type": "markdown",
      "source": [
        "Heatmap adalah salah satu jenis visualisasi untuk menampilkan hubungan antara dua variabel kategorikal atau untuk menampilkan korelasi antara variabel-variabel dalam dataset.\n",
        "Pada konteks analisis data, heatmap sering dipakai untuk memvisualisasikan matriks korelasi antara variabel.\n",
        "\n",
        "Berikut cara membuat heatmap untuk matriks korelasi.\n",
        "Pertama-tama, kamu perlu menghitung matriks korelasi dari dataset menggunakan Pandas. Kemudian, kamu bisa memvisualisasikannya dengan Seaborn."
      ],
      "metadata": {
        "id": "qlgfUngXx29v"
      }
    },
    {
      "cell_type": "code",
      "source": [
        "import seaborn as sns\n",
        "import matplotlib.pyplot as plt\n",
        "import pandas as pd\n",
        "\n",
        "data = sns.load_dataset('tips')\n",
        "korelasi = data.corr()\n",
        "sns.heatmap(korelasi, annot=True, cmap='coolwarm')\n",
        "plt.show()"
      ],
      "metadata": {
        "id": "zb2II2EDx_LJ"
      },
      "execution_count": null,
      "outputs": []
    },
    {
      "cell_type": "markdown",
      "source": [
        "Dalam kode di atas, data.corr() menghitung matriks korelasi dari dataset. Parameter annot=True memastikan bahwa nilai korelasi ditampilkan di dalam sel heatmap. Sementara cmap digunakan untuk menentukan palet warna.\n",
        "\n",
        "Jika kamu ingin mengubah format annotation pada heatmap, kamu bisa menambahkan parameter fmt. Contoh:"
      ],
      "metadata": {
        "id": "Vv9c7wwEyETe"
      }
    },
    {
      "cell_type": "code",
      "source": [
        "data = sns.load_dataset('tips')\n",
        "korelasi = data.corr()\n",
        "sns.heatmap(korelasi, annot=True, cmap='coolwarm', fmt='.4f')\n",
        "plt.show()"
      ],
      "metadata": {
        "id": "M7tajnvDyGCY"
      },
      "execution_count": null,
      "outputs": []
    },
    {
      "cell_type": "markdown",
      "source": [
        "Dengan menambahkan fmt='.4f', nilai korelasi akan ditampilkan dengan empat angka desimal.\n",
        "\n",
        "Selain membuat matriks korelasi, heatmap juga memungkinkan kamu dengan cepat mengidentifikasi hubungan antara variabel.\n",
        "\n",
        "Warna yang lebih hangat (misalnya, merah atau oranye) biasanya menunjukkan korelasi positif yang kuat, sedangkan warna yang lebih dingin (seperti biru) menunjukkan korelasi negatif. Jika sel dalam heatmap berwarna netral atau mendekati nol, menunjukkan tidak ada korelasi yang signifikan antara dua variabel tersebut.\n",
        "\n",
        "Dengan memahami pola warna ini, kamu lebih cepat menentukan variabel mana yang memiliki hubungan kuat atau lemah satu sama lain."
      ],
      "metadata": {
        "id": "TQcI8RnRyPPq"
      }
    }
  ]
}